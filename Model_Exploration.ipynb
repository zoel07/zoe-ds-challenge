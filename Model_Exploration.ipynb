{
 "cells": [
  {
   "cell_type": "code",
   "execution_count": 25,
   "metadata": {},
   "outputs": [],
   "source": [
    "import pandas as pd\n",
    "import numpy as np\n",
    "from sklearn.model_selection import train_test_split\n",
    "from sklearn.linear_model import LogisticRegression\n",
    "from sklearn.preprocessing import StandardScaler\n",
    "from sklearn.neighbors import KNeighborsClassifier\n",
    "from sklearn.metrics import confusion_matrix,classification_report\n",
    "from sklearn.svm import SVC\n",
    "from sklearn.model_selection import GridSearchCV\n",
    "from sklearn.tree import DecisionTreeClassifier\n",
    "import matplotlib.pyplot as plt\n",
    "import seaborn as sns\n",
    "\n",
    "%matplotlib inline"
   ]
  },
  {
   "cell_type": "markdown",
   "metadata": {},
   "source": [
    "## Task\n",
    "1. Use at least two models from different model family, based on the kind of DS task with details on why it was chosen. \n",
    "1. Perform feature selection & hyperparameter tuning both using normal method and leveraging automatic tuning \n",
    "1. Perform evaluation on atleast two different metrics for both the models. \n"
   ]
  },
  {
   "cell_type": "markdown",
   "metadata": {},
   "source": [
    "## Logistic Regression"
   ]
  },
  {
   "cell_type": "markdown",
   "metadata": {},
   "source": [
    "Logistic Regression performs well when the dataset is linearly separable. It can interpret model coefficients as indicators of feature importance. It is also very fast and a common method used for binary classification."
   ]
  },
  {
   "cell_type": "code",
   "execution_count": 26,
   "metadata": {},
   "outputs": [],
   "source": [
    "# read raw dataset\n",
    "df = pd.read_csv('Churn_Modelling_Assortment.csv')"
   ]
  },
  {
   "cell_type": "code",
   "execution_count": 27,
   "metadata": {},
   "outputs": [
    {
     "name": "stdout",
     "output_type": "stream",
     "text": [
      "              precision    recall  f1-score   support\n",
      "\n",
      "           0       0.81      0.98      0.89      2657\n",
      "           1       0.45      0.08      0.14       643\n",
      "\n",
      "    accuracy                           0.80      3300\n",
      "   macro avg       0.63      0.53      0.51      3300\n",
      "weighted avg       0.74      0.80      0.74      3300\n",
      "\n",
      "[[2592   65]\n",
      " [ 590   53]]\n"
     ]
    }
   ],
   "source": [
    "# take selected features\n",
    "X = df[['credit_score', 'age', 'tenure', 'balance',\n",
    "       'num_products', 'has_credit_card', 'active_member', 'estimated_salary',\n",
    "        'male', 'france', 'germany', 'spain']]\n",
    "y = df['exited']\n",
    "# split\n",
    "X_train, X_test, y_train, y_test = train_test_split(X, y, test_size=0.33, random_state=42)\n",
    "# initialise model\n",
    "logmodel = LogisticRegression()\n",
    "logmodel.fit(X_train,y_train)\n",
    "# predict\n",
    "predictions = logmodel.predict(X_test)\n",
    "# evaluate\n",
    "print(classification_report(y_test,predictions))\n",
    "print(confusion_matrix(y_test, predictions))"
   ]
  },
  {
   "cell_type": "code",
   "execution_count": null,
   "metadata": {},
   "outputs": [],
   "source": []
  },
  {
   "cell_type": "code",
   "execution_count": 28,
   "metadata": {},
   "outputs": [
    {
     "data": {
      "text/plain": [
       "<matplotlib.axes._subplots.AxesSubplot at 0x7fd813810590>"
      ]
     },
     "execution_count": 28,
     "metadata": {},
     "output_type": "execute_result"
    },
    {
     "data": {
      "image/png": "[encoded data removed]",
      "text/plain": [
       "<Figure size 1440x432 with 1 Axes>"
      ]
     },
     "metadata": {
      "needs_background": "light"
     },
     "output_type": "display_data"
    }
   ],
   "source": [
    "d = {'feature': X.columns, 'importance': logmodel.coef_[0]}\n",
    "feat_imp = pd.DataFrame(data=d)\n",
    "\n",
    "feat_imp['importance'] = feat_imp['importance'].abs()\n",
    "feat_imp = feat_imp.sort_values(by=['importance'])\n",
    "\n",
    "plt.figure(figsize=(20,6))\n",
    "sns.barplot(x=\"feature\", y=\"importance\", data=feat_imp)"
   ]
  },
  {
   "cell_type": "code",
   "execution_count": 29,
   "metadata": {},
   "outputs": [
    {
     "name": "stdout",
     "output_type": "stream",
     "text": [
      "              precision    recall  f1-score   support\n",
      "\n",
      "           0       0.84      0.96      0.89      2657\n",
      "           1       0.57      0.22      0.32       643\n",
      "\n",
      "    accuracy                           0.82      3300\n",
      "   macro avg       0.70      0.59      0.61      3300\n",
      "weighted avg       0.78      0.82      0.78      3300\n",
      "\n",
      "[[2550  107]\n",
      " [ 501  142]]\n"
     ]
    },
    {
     "name": "stderr",
     "output_type": "stream",
     "text": [
      "/opt/conda/lib/python3.7/site-packages/sklearn/linear_model/_logistic.py:940: ConvergenceWarning: lbfgs failed to converge (status=1):\n",
      "STOP: TOTAL NO. of ITERATIONS REACHED LIMIT.\n",
      "\n",
      "Increase the number of iterations (max_iter) or scale the data as shown in:\n",
      "    https://scikit-learn.org/stable/modules/preprocessing.html\n",
      "Please also refer to the documentation for alternative solver options:\n",
      "    https://scikit-learn.org/stable/modules/linear_model.html#logistic-regression\n",
      "  extra_warning_msg=_LOGISTIC_SOLVER_CONVERGENCE_MSG)\n"
     ]
    }
   ],
   "source": [
    "# try again with \n",
    "X = df[['credit_score', 'age', 'tenure', 'active_member','male', 'france', 'germany']]\n",
    "y = df['exited']\n",
    "# split\n",
    "X_train, X_test, y_train, y_test = train_test_split(X, y, test_size=0.33, random_state=42)\n",
    "# initialise model\n",
    "logmodel = LogisticRegression()\n",
    "logmodel.fit(X_train,y_train)\n",
    "# predict\n",
    "predictions = logmodel.predict(X_test)\n",
    "# evaluate\n",
    "print(classification_report(y_test,predictions))\n",
    "print(confusion_matrix(y_test,predictions))"
   ]
  },
  {
   "cell_type": "code",
   "execution_count": 30,
   "metadata": {},
   "outputs": [
    {
     "data": {
      "text/plain": [
       "<matplotlib.axes._subplots.AxesSubplot at 0x7fd804404d90>"
      ]
     },
     "execution_count": 30,
     "metadata": {},
     "output_type": "execute_result"
    },
    {
     "data": {
      "image/png": "[encoded data removed]",
      "text/plain": [
       "<Figure size 1440x432 with 1 Axes>"
      ]
     },
     "metadata": {
      "needs_background": "light"
     },
     "output_type": "display_data"
    }
   ],
   "source": [
    "d = {'feature': X.columns, 'importance': logmodel.coef_[0]}\n",
    "feat_imp = pd.DataFrame(data=d)\n",
    "\n",
    "feat_imp['importance'] = feat_imp['importance'].abs()\n",
    "feat_imp = feat_imp.sort_values(by=['importance'])\n",
    "\n",
    "plt.figure(figsize=(20,6))\n",
    "sns.barplot(x=\"feature\", y=\"importance\", data=feat_imp)"
   ]
  },
  {
   "cell_type": "markdown",
   "metadata": {},
   "source": [
    "Conclusions: This model initially has an average f1 score of 51%, and with feature engineering this increases to 61%. Not great."
   ]
  },
  {
   "cell_type": "markdown",
   "metadata": {},
   "source": [
    "## KNN"
   ]
  },
  {
   "cell_type": "markdown",
   "metadata": {},
   "source": [
    "The KNN classification algorithm is often used for classifying the data, as well as for regression on continuous numeric data. It is used for not just binary classification but for multilevel classifications too. It is a non-parametric machine learning method implying that it doesn’t make any assumptions about the data. It also doesn’t make any generalizations, and simply checks the neighboring data points to determine the classification of unknown or uncategorized data points. "
   ]
  },
  {
   "cell_type": "code",
   "execution_count": 31,
   "metadata": {},
   "outputs": [],
   "source": [
    "X = df[['credit_score', 'age', 'tenure', 'balance',\n",
    "       'num_products', 'has_credit_card', 'active_member', 'estimated_salary',\n",
    "        'male', 'france', 'germany', 'spain']]\n",
    "y = df['exited']"
   ]
  },
  {
   "cell_type": "code",
   "execution_count": 32,
   "metadata": {},
   "outputs": [
    {
     "name": "stdout",
     "output_type": "stream",
     "text": [
      "              precision    recall  f1-score   support\n",
      "\n",
      "           0       0.86      0.88      0.87      2392\n",
      "           1       0.49      0.46      0.48       608\n",
      "\n",
      "    accuracy                           0.80      3000\n",
      "   macro avg       0.68      0.67      0.67      3000\n",
      "weighted avg       0.79      0.80      0.79      3000\n",
      "\n",
      "[[2106  286]\n",
      " [ 329  279]]\n"
     ]
    }
   ],
   "source": [
    "# need to use a scalar for knn to normalise the data in each axis\n",
    "scaler = StandardScaler()\n",
    "scaler.fit(X)\n",
    "\n",
    "scaled_features = scaler.transform(X)\n",
    "\n",
    "#convert the scaled features to a dataframe and check the head of this dataframe to make sure the scaling worked.**\n",
    "df_feat = pd.DataFrame(scaled_features,columns=X.columns)\n",
    "df_feat.head()\n",
    "\n",
    "\n",
    "X_train, X_test, y_train, y_test = train_test_split(scaled_features,y,\n",
    "                                                    test_size=0.30)\n",
    "\n",
    "# Using n_neighbors=1\n",
    "knn = KNeighborsClassifier(n_neighbors=1)\n",
    "\n",
    "knn.fit(X_train,y_train)\n",
    "\n",
    "pred = knn.predict(X_test)\n",
    "\n",
    "print(classification_report(y_test,pred))\n",
    "print(confusion_matrix(y_test,pred))\n"
   ]
  },
  {
   "cell_type": "markdown",
   "metadata": {},
   "source": [
    "Average f1 score is 68%"
   ]
  },
  {
   "cell_type": "code",
   "execution_count": 33,
   "metadata": {},
   "outputs": [
    {
     "data": {
      "text/plain": [
       "Text(0, 0.5, 'Error Rate')"
      ]
     },
     "execution_count": 33,
     "metadata": {},
     "output_type": "execute_result"
    },
    {
     "data": {
      "image/png": "[encoded data removed]",
      "text/plain": [
       "<Figure size 720x432 with 1 Axes>"
      ]
     },
     "metadata": {
      "needs_background": "light"
     },
     "output_type": "display_data"
    }
   ],
   "source": [
    "# Looping through options for n\n",
    "error_rate = []\n",
    "for i in range(1,40):\n",
    "    \n",
    "    knn = KNeighborsClassifier(n_neighbors=i)\n",
    "    knn.fit(X_train,y_train)\n",
    "    pred_i = knn.predict(X_test)\n",
    "    error_rate.append(np.mean(pred_i != y_test))\n",
    "\n",
    "plt.figure(figsize=(10,6))\n",
    "plt.plot(range(1,40),error_rate,color='blue', linestyle='dashed', marker='o',\n",
    "         markerfacecolor='red', markersize=10)\n",
    "plt.title('Error Rate vs. K Value')\n",
    "plt.xlabel('K')\n",
    "plt.ylabel('Error Rate')\n",
    "\n"
   ]
  },
  {
   "cell_type": "code",
   "execution_count": 34,
   "metadata": {},
   "outputs": [
    {
     "name": "stdout",
     "output_type": "stream",
     "text": [
      "WITH K=30\n",
      "\n",
      "\n",
      "              precision    recall  f1-score   support\n",
      "\n",
      "           0       0.84      0.96      0.90      2392\n",
      "           1       0.67      0.30      0.41       608\n",
      "\n",
      "    accuracy                           0.83      3000\n",
      "   macro avg       0.76      0.63      0.66      3000\n",
      "weighted avg       0.81      0.83      0.80      3000\n",
      "\n",
      "[[2303   89]\n",
      " [ 426  182]]\n"
     ]
    }
   ],
   "source": [
    "# Chose k=15\n",
    "knn = KNeighborsClassifier(n_neighbors=15)\n",
    "\n",
    "knn.fit(X_train,y_train)\n",
    "pred = knn.predict(X_test)\n",
    "\n",
    "print('WITH K=30')\n",
    "print('\\n')\n",
    "print(classification_report(y_test,pred))\n",
    "print(confusion_matrix(y_test,pred))\n"
   ]
  },
  {
   "cell_type": "markdown",
   "metadata": {},
   "source": [
    "## Decision Tree"
   ]
  },
  {
   "cell_type": "code",
   "execution_count": 35,
   "metadata": {},
   "outputs": [
    {
     "name": "stdout",
     "output_type": "stream",
     "text": [
      "              precision    recall  f1-score   support\n",
      "\n",
      "           0       0.87      0.84      0.86      2393\n",
      "           1       0.45      0.50      0.47       607\n",
      "\n",
      "    accuracy                           0.77      3000\n",
      "   macro avg       0.66      0.67      0.66      3000\n",
      "weighted avg       0.78      0.77      0.78      3000\n",
      "\n",
      "[[2021  372]\n",
      " [ 306  301]]\n"
     ]
    }
   ],
   "source": [
    "X = df[['credit_score', 'age', 'tenure', 'balance',\n",
    "       'num_products', 'has_credit_card', 'active_member', 'estimated_salary',\n",
    "        'male', 'france', 'germany', 'spain']]\n",
    "y = df['exited']\n",
    "\n",
    "X_train, X_test, y_train, y_test = train_test_split(X, y, test_size=0.30)\n",
    "\n",
    "dtree = DecisionTreeClassifier()\n",
    "dtree.fit(X_train,y_train)\n",
    "\n",
    "## Predictions and Evaluation of Decision Tree\n",
    "\n",
    "predictions = dtree.predict(X_test)\n",
    "\n",
    "print(classification_report(y_test,predictions))\n",
    "print(confusion_matrix(y_test,predictions))"
   ]
  },
  {
   "cell_type": "code",
   "execution_count": 36,
   "metadata": {},
   "outputs": [
    {
     "data": {
      "text/plain": [
       "<matplotlib.axes._subplots.AxesSubplot at 0x7fd81280d310>"
      ]
     },
     "execution_count": 36,
     "metadata": {},
     "output_type": "execute_result"
    },
    {
     "data": {
      "image/png": "[encoded data removed]",
      "text/plain": [
       "<Figure size 1440x432 with 1 Axes>"
      ]
     },
     "metadata": {
      "needs_background": "light"
     },
     "output_type": "display_data"
    }
   ],
   "source": [
    "d = {'feature': X.columns, 'importance': dtree.feature_importances_}\n",
    "feat_imp = pd.DataFrame(data=d)\n",
    "\n",
    "feat_imp['importance'] = feat_imp['importance'].abs()\n",
    "feat_imp = feat_imp.sort_values(by=['importance'])\n",
    "\n",
    "plt.figure(figsize=(20,6))\n",
    "sns.barplot(x=\"feature\", y=\"importance\", data=feat_imp)"
   ]
  },
  {
   "cell_type": "code",
   "execution_count": 37,
   "metadata": {},
   "outputs": [
    {
     "name": "stdout",
     "output_type": "stream",
     "text": [
      "              precision    recall  f1-score   support\n",
      "\n",
      "           0       0.86      0.87      0.86      2394\n",
      "           1       0.45      0.43      0.44       606\n",
      "\n",
      "    accuracy                           0.78      3000\n",
      "   macro avg       0.65      0.65      0.65      3000\n",
      "weighted avg       0.78      0.78      0.78      3000\n",
      "\n",
      "[[2072  322]\n",
      " [ 344  262]]\n"
     ]
    }
   ],
   "source": [
    "X = df[['credit_score', 'age', 'tenure', 'balance',\n",
    "       'num_products', 'active_member', 'estimated_salary']]\n",
    "y = df['exited']\n",
    "\n",
    "X_train, X_test, y_train, y_test = train_test_split(X, y, test_size=0.30)\n",
    "\n",
    "\n",
    "dtree = DecisionTreeClassifier()\n",
    "dtree.fit(X_train,y_train)\n",
    "\n",
    "## Predictions and Evaluation of Decision Tree\n",
    "\n",
    "predictions = dtree.predict(X_test)\n",
    "\n",
    "print(classification_report(y_test,predictions))\n",
    "print(confusion_matrix(y_test,predictions))"
   ]
  },
  {
   "cell_type": "code",
   "execution_count": 38,
   "metadata": {},
   "outputs": [
    {
     "data": {
      "text/plain": [
       "<matplotlib.axes._subplots.AxesSubplot at 0x7fd8044c1bd0>"
      ]
     },
     "execution_count": 38,
     "metadata": {},
     "output_type": "execute_result"
    },
    {
     "data": {
      "image/png": "[encoded data removed]",
      "text/plain": [
       "<Figure size 1440x432 with 1 Axes>"
      ]
     },
     "metadata": {
      "needs_background": "light"
     },
     "output_type": "display_data"
    }
   ],
   "source": [
    "d = {'feature': X.columns, 'importance': dtree.feature_importances_}\n",
    "feat_imp = pd.DataFrame(data=d)\n",
    "\n",
    "feat_imp['importance'] = feat_imp['importance'].abs()\n",
    "feat_imp = feat_imp.sort_values(by=['importance'])\n",
    "\n",
    "plt.figure(figsize=(20,6))\n",
    "sns.barplot(x=\"feature\", y=\"importance\", data=feat_imp)"
   ]
  },
  {
   "cell_type": "markdown",
   "metadata": {},
   "source": [
    "## Grid Search to tune variables"
   ]
  },
  {
   "cell_type": "code",
   "execution_count": 39,
   "metadata": {
    "scrolled": true
   },
   "outputs": [
    {
     "name": "stdout",
     "output_type": "stream",
     "text": [
      "Fitting 5 folds for each of 60 candidates, totalling 300 fits\n",
      "[CV] criterion=gini, max_depth=1, random_state=0 .....................\n",
      "[CV] ...... criterion=gini, max_depth=1, random_state=0, total=   0.0s\n",
      "[CV] criterion=gini, max_depth=1, random_state=0 .....................\n",
      "[CV] ...... criterion=gini, max_depth=1, random_state=0, total=   0.0s\n",
      "[CV] criterion=gini, max_depth=1, random_state=0 .....................\n",
      "[CV] ...... criterion=gini, max_depth=1, random_state=0, total=   0.0s\n",
      "[CV] criterion=gini, max_depth=1, random_state=0 .....................\n",
      "[CV] ...... criterion=gini, max_depth=1, random_state=0, total=   0.0s\n",
      "[CV] criterion=gini, max_depth=1, random_state=0 .....................\n",
      "[CV] ...... criterion=gini, max_depth=1, random_state=0, total=   0.0s\n",
      "[CV] criterion=gini, max_depth=1, random_state=1 .....................\n",
      "[CV] ...... criterion=gini, max_depth=1, random_state=1, total=   0.0s\n",
      "[CV] criterion=gini, max_depth=1, random_state=1 .....................\n",
      "[CV] ...... criterion=gini, max_depth=1, random_state=1, total=   0.1s\n",
      "[CV] criterion=gini, max_depth=1, random_state=1 .....................\n",
      "[CV] ...... criterion=gini, max_depth=1, random_state=1, total=   0.0s\n",
      "[CV] criterion=gini, max_depth=1, random_state=1 .....................\n",
      "[CV] ...... criterion=gini, max_depth=1, random_state=1, total=   0.0s\n",
      "[CV] criterion=gini, max_depth=1, random_state=1 .....................\n",
      "[CV] ...... criterion=gini, max_depth=1, random_state=1, total=   0.0s\n",
      "[CV] criterion=gini, max_depth=1, random_state=2 .....................\n",
      "[CV] ...... criterion=gini, max_depth=1, random_state=2, total=   0.0s\n",
      "[CV] criterion=gini, max_depth=1, random_state=2 .....................\n",
      "[CV] ...... criterion=gini, max_depth=1, random_state=2, total=   0.0s\n",
      "[CV] criterion=gini, max_depth=1, random_state=2 .....................\n",
      "[CV] ...... criterion=gini, max_depth=1, random_state=2, total=   0.0s\n",
      "[CV] criterion=gini, max_depth=1, random_state=2 .....................\n",
      "[CV] ...... criterion=gini, max_depth=1, random_state=2, total=   0.0s\n",
      "[CV] criterion=gini, max_depth=1, random_state=2 .....................\n",
      "[CV] ...... criterion=gini, max_depth=1, random_state=2, total=   0.0s\n",
      "[CV] criterion=gini, max_depth=2, random_state=0 .....................\n",
      "[CV] ...... criterion=gini, max_depth=2, random_state=0, total=   0.0s\n",
      "[CV] criterion=gini, max_depth=2, random_state=0 .....................\n",
      "[CV] ...... criterion=gini, max_depth=2, random_state=0, total=   0.0s\n",
      "[CV] criterion=gini, max_depth=2, random_state=0 .....................\n"
     ]
    },
    {
     "name": "stderr",
     "output_type": "stream",
     "text": [
      "[Parallel(n_jobs=1)]: Using backend SequentialBackend with 1 concurrent workers.\n",
      "[Parallel(n_jobs=1)]: Done   1 out of   1 | elapsed:    0.0s remaining:    0.0s\n"
     ]
    },
    {
     "name": "stdout",
     "output_type": "stream",
     "text": [
      "[CV] ...... criterion=gini, max_depth=2, random_state=0, total=   0.0s\n",
      "[CV] criterion=gini, max_depth=2, random_state=0 .....................\n",
      "[CV] ...... criterion=gini, max_depth=2, random_state=0, total=   0.0s\n",
      "[CV] criterion=gini, max_depth=2, random_state=0 .....................\n",
      "[CV] ...... criterion=gini, max_depth=2, random_state=0, total=   0.0s\n",
      "[CV] criterion=gini, max_depth=2, random_state=1 .....................\n",
      "[CV] ...... criterion=gini, max_depth=2, random_state=1, total=   0.0s\n",
      "[CV] criterion=gini, max_depth=2, random_state=1 .....................\n",
      "[CV] ...... criterion=gini, max_depth=2, random_state=1, total=   0.0s\n",
      "[CV] criterion=gini, max_depth=2, random_state=1 .....................\n",
      "[CV] ...... criterion=gini, max_depth=2, random_state=1, total=   0.0s\n",
      "[CV] criterion=gini, max_depth=2, random_state=1 .....................\n",
      "[CV] ...... criterion=gini, max_depth=2, random_state=1, total=   0.0s\n",
      "[CV] criterion=gini, max_depth=2, random_state=1 .....................\n",
      "[CV] ...... criterion=gini, max_depth=2, random_state=1, total=   0.0s\n",
      "[CV] criterion=gini, max_depth=2, random_state=2 .....................\n",
      "[CV] ...... criterion=gini, max_depth=2, random_state=2, total=   0.0s\n",
      "[CV] criterion=gini, max_depth=2, random_state=2 .....................\n",
      "[CV] ...... criterion=gini, max_depth=2, random_state=2, total=   0.0s\n",
      "[CV] criterion=gini, max_depth=2, random_state=2 .....................\n",
      "[CV] ...... criterion=gini, max_depth=2, random_state=2, total=   0.0s\n",
      "[CV] criterion=gini, max_depth=2, random_state=2 .....................\n",
      "[CV] ...... criterion=gini, max_depth=2, random_state=2, total=   0.0s\n",
      "[CV] criterion=gini, max_depth=2, random_state=2 .....................\n",
      "[CV] ...... criterion=gini, max_depth=2, random_state=2, total=   0.0s\n",
      "[CV] criterion=gini, max_depth=3, random_state=0 .....................\n",
      "[CV] ...... criterion=gini, max_depth=3, random_state=0, total=   0.0s\n",
      "[CV] criterion=gini, max_depth=3, random_state=0 .....................\n",
      "[CV] ...... criterion=gini, max_depth=3, random_state=0, total=   0.0s\n",
      "[CV] criterion=gini, max_depth=3, random_state=0 .....................\n",
      "[CV] ...... criterion=gini, max_depth=3, random_state=0, total=   0.0s\n",
      "[CV] criterion=gini, max_depth=3, random_state=0 .....................\n",
      "[CV] ...... criterion=gini, max_depth=3, random_state=0, total=   0.0s\n",
      "[CV] criterion=gini, max_depth=3, random_state=0 .....................\n",
      "[CV] ...... criterion=gini, max_depth=3, random_state=0, total=   0.0s\n",
      "[CV] criterion=gini, max_depth=3, random_state=1 .....................\n",
      "[CV] ...... criterion=gini, max_depth=3, random_state=1, total=   0.0s\n",
      "[CV] criterion=gini, max_depth=3, random_state=1 .....................\n",
      "[CV] ...... criterion=gini, max_depth=3, random_state=1, total=   0.0s\n",
      "[CV] criterion=gini, max_depth=3, random_state=1 .....................\n",
      "[CV] ...... criterion=gini, max_depth=3, random_state=1, total=   0.0s\n",
      "[CV] criterion=gini, max_depth=3, random_state=1 .....................\n",
      "[CV] ...... criterion=gini, max_depth=3, random_state=1, total=   0.0s\n",
      "[CV] criterion=gini, max_depth=3, random_state=1 .....................\n",
      "[CV] ...... criterion=gini, max_depth=3, random_state=1, total=   0.0s\n",
      "[CV] criterion=gini, max_depth=3, random_state=2 .....................\n",
      "[CV] ...... criterion=gini, max_depth=3, random_state=2, total=   0.0s\n",
      "[CV] criterion=gini, max_depth=3, random_state=2 .....................\n",
      "[CV] ...... criterion=gini, max_depth=3, random_state=2, total=   0.0s\n",
      "[CV] criterion=gini, max_depth=3, random_state=2 .....................\n",
      "[CV] ...... criterion=gini, max_depth=3, random_state=2, total=   0.0s\n",
      "[CV] criterion=gini, max_depth=3, random_state=2 .....................\n",
      "[CV] ...... criterion=gini, max_depth=3, random_state=2, total=   0.0s\n",
      "[CV] criterion=gini, max_depth=3, random_state=2 .....................\n",
      "[CV] ...... criterion=gini, max_depth=3, random_state=2, total=   0.0s\n",
      "[CV] criterion=gini, max_depth=4, random_state=0 .....................\n",
      "[CV] ...... criterion=gini, max_depth=4, random_state=0, total=   0.0s\n",
      "[CV] criterion=gini, max_depth=4, random_state=0 .....................\n",
      "[CV] ...... criterion=gini, max_depth=4, random_state=0, total=   0.0s\n",
      "[CV] criterion=gini, max_depth=4, random_state=0 .....................\n",
      "[CV] ...... criterion=gini, max_depth=4, random_state=0, total=   0.0s\n",
      "[CV] criterion=gini, max_depth=4, random_state=0 .....................\n",
      "[CV] ...... criterion=gini, max_depth=4, random_state=0, total=   0.0s\n",
      "[CV] criterion=gini, max_depth=4, random_state=0 .....................\n",
      "[CV] ...... criterion=gini, max_depth=4, random_state=0, total=   0.0s\n",
      "[CV] criterion=gini, max_depth=4, random_state=1 .....................\n",
      "[CV] ...... criterion=gini, max_depth=4, random_state=1, total=   0.0s\n",
      "[CV] criterion=gini, max_depth=4, random_state=1 .....................\n",
      "[CV] ...... criterion=gini, max_depth=4, random_state=1, total=   0.0s\n",
      "[CV] criterion=gini, max_depth=4, random_state=1 .....................\n",
      "[CV] ...... criterion=gini, max_depth=4, random_state=1, total=   0.0s\n",
      "[CV] criterion=gini, max_depth=4, random_state=1 .....................\n",
      "[CV] ...... criterion=gini, max_depth=4, random_state=1, total=   0.0s\n",
      "[CV] criterion=gini, max_depth=4, random_state=1 .....................\n",
      "[CV] ...... criterion=gini, max_depth=4, random_state=1, total=   0.0s\n",
      "[CV] criterion=gini, max_depth=4, random_state=2 .....................\n",
      "[CV] ...... criterion=gini, max_depth=4, random_state=2, total=   0.0s\n",
      "[CV] criterion=gini, max_depth=4, random_state=2 .....................\n",
      "[CV] ...... criterion=gini, max_depth=4, random_state=2, total=   0.0s\n",
      "[CV] criterion=gini, max_depth=4, random_state=2 .....................\n",
      "[CV] ...... criterion=gini, max_depth=4, random_state=2, total=   0.0s\n",
      "[CV] criterion=gini, max_depth=4, random_state=2 .....................\n",
      "[CV] ...... criterion=gini, max_depth=4, random_state=2, total=   0.0s\n",
      "[CV] criterion=gini, max_depth=4, random_state=2 .....................\n",
      "[CV] ...... criterion=gini, max_depth=4, random_state=2, total=   0.0s\n",
      "[CV] criterion=gini, max_depth=5, random_state=0 .....................\n",
      "[CV] ...... criterion=gini, max_depth=5, random_state=0, total=   0.0s\n",
      "[CV] criterion=gini, max_depth=5, random_state=0 .....................\n",
      "[CV] ...... criterion=gini, max_depth=5, random_state=0, total=   0.0s\n",
      "[CV] criterion=gini, max_depth=5, random_state=0 .....................\n",
      "[CV] ...... criterion=gini, max_depth=5, random_state=0, total=   0.0s\n",
      "[CV] criterion=gini, max_depth=5, random_state=0 .....................\n",
      "[CV] ...... criterion=gini, max_depth=5, random_state=0, total=   0.0s\n",
      "[CV] criterion=gini, max_depth=5, random_state=0 .....................\n",
      "[CV] ...... criterion=gini, max_depth=5, random_state=0, total=   0.0s\n",
      "[CV] criterion=gini, max_depth=5, random_state=1 .....................\n",
      "[CV] ...... criterion=gini, max_depth=5, random_state=1, total=   0.0s\n",
      "[CV] criterion=gini, max_depth=5, random_state=1 .....................\n",
      "[CV] ...... criterion=gini, max_depth=5, random_state=1, total=   0.0s\n",
      "[CV] criterion=gini, max_depth=5, random_state=1 .....................\n",
      "[CV] ...... criterion=gini, max_depth=5, random_state=1, total=   0.0s\n",
      "[CV] criterion=gini, max_depth=5, random_state=1 .....................\n",
      "[CV] ...... criterion=gini, max_depth=5, random_state=1, total=   0.0s\n",
      "[CV] criterion=gini, max_depth=5, random_state=1 .....................\n",
      "[CV] ...... criterion=gini, max_depth=5, random_state=1, total=   0.0s\n",
      "[CV] criterion=gini, max_depth=5, random_state=2 .....................\n",
      "[CV] ...... criterion=gini, max_depth=5, random_state=2, total=   0.0s\n",
      "[CV] criterion=gini, max_depth=5, random_state=2 .....................\n",
      "[CV] ...... criterion=gini, max_depth=5, random_state=2, total=   0.0s\n",
      "[CV] criterion=gini, max_depth=5, random_state=2 .....................\n",
      "[CV] ...... criterion=gini, max_depth=5, random_state=2, total=   0.0s\n",
      "[CV] criterion=gini, max_depth=5, random_state=2 .....................\n",
      "[CV] ...... criterion=gini, max_depth=5, random_state=2, total=   0.0s\n",
      "[CV] criterion=gini, max_depth=5, random_state=2 .....................\n",
      "[CV] ...... criterion=gini, max_depth=5, random_state=2, total=   0.0s\n",
      "[CV] criterion=gini, max_depth=6, random_state=0 .....................\n",
      "[CV] ...... criterion=gini, max_depth=6, random_state=0, total=   0.0s\n",
      "[CV] criterion=gini, max_depth=6, random_state=0 .....................\n",
      "[CV] ...... criterion=gini, max_depth=6, random_state=0, total=   0.0s\n",
      "[CV] criterion=gini, max_depth=6, random_state=0 .....................\n",
      "[CV] ...... criterion=gini, max_depth=6, random_state=0, total=   0.0s\n",
      "[CV] criterion=gini, max_depth=6, random_state=0 .....................\n",
      "[CV] ...... criterion=gini, max_depth=6, random_state=0, total=   0.0s\n",
      "[CV] criterion=gini, max_depth=6, random_state=0 .....................\n",
      "[CV] ...... criterion=gini, max_depth=6, random_state=0, total=   0.0s\n",
      "[CV] criterion=gini, max_depth=6, random_state=1 .....................\n",
      "[CV] ...... criterion=gini, max_depth=6, random_state=1, total=   0.0s\n",
      "[CV] criterion=gini, max_depth=6, random_state=1 .....................\n",
      "[CV] ...... criterion=gini, max_depth=6, random_state=1, total=   0.0s\n",
      "[CV] criterion=gini, max_depth=6, random_state=1 .....................\n",
      "[CV] ...... criterion=gini, max_depth=6, random_state=1, total=   0.0s\n",
      "[CV] criterion=gini, max_depth=6, random_state=1 .....................\n",
      "[CV] ...... criterion=gini, max_depth=6, random_state=1, total=   0.0s\n",
      "[CV] criterion=gini, max_depth=6, random_state=1 .....................\n",
      "[CV] ...... criterion=gini, max_depth=6, random_state=1, total=   0.0s\n",
      "[CV] criterion=gini, max_depth=6, random_state=2 .....................\n",
      "[CV] ...... criterion=gini, max_depth=6, random_state=2, total=   0.0s\n",
      "[CV] criterion=gini, max_depth=6, random_state=2 .....................\n",
      "[CV] ...... criterion=gini, max_depth=6, random_state=2, total=   0.0s\n",
      "[CV] criterion=gini, max_depth=6, random_state=2 .....................\n",
      "[CV] ...... criterion=gini, max_depth=6, random_state=2, total=   0.0s\n",
      "[CV] criterion=gini, max_depth=6, random_state=2 .....................\n",
      "[CV] ...... criterion=gini, max_depth=6, random_state=2, total=   0.0s\n",
      "[CV] criterion=gini, max_depth=6, random_state=2 .....................\n",
      "[CV] ...... criterion=gini, max_depth=6, random_state=2, total=   0.0s\n",
      "[CV] criterion=gini, max_depth=7, random_state=0 .....................\n",
      "[CV] ...... criterion=gini, max_depth=7, random_state=0, total=   0.0s\n",
      "[CV] criterion=gini, max_depth=7, random_state=0 .....................\n",
      "[CV] ...... criterion=gini, max_depth=7, random_state=0, total=   0.0s\n",
      "[CV] criterion=gini, max_depth=7, random_state=0 .....................\n",
      "[CV] ...... criterion=gini, max_depth=7, random_state=0, total=   0.0s\n",
      "[CV] criterion=gini, max_depth=7, random_state=0 .....................\n",
      "[CV] ...... criterion=gini, max_depth=7, random_state=0, total=   0.0s\n",
      "[CV] criterion=gini, max_depth=7, random_state=0 .....................\n",
      "[CV] ...... criterion=gini, max_depth=7, random_state=0, total=   0.0s\n",
      "[CV] criterion=gini, max_depth=7, random_state=1 .....................\n",
      "[CV] ...... criterion=gini, max_depth=7, random_state=1, total=   0.0s\n",
      "[CV] criterion=gini, max_depth=7, random_state=1 .....................\n",
      "[CV] ...... criterion=gini, max_depth=7, random_state=1, total=   0.0s\n",
      "[CV] criterion=gini, max_depth=7, random_state=1 .....................\n",
      "[CV] ...... criterion=gini, max_depth=7, random_state=1, total=   0.0s\n",
      "[CV] criterion=gini, max_depth=7, random_state=1 .....................\n",
      "[CV] ...... criterion=gini, max_depth=7, random_state=1, total=   0.0s\n",
      "[CV] criterion=gini, max_depth=7, random_state=1 .....................\n",
      "[CV] ...... criterion=gini, max_depth=7, random_state=1, total=   0.0s\n",
      "[CV] criterion=gini, max_depth=7, random_state=2 .....................\n",
      "[CV] ...... criterion=gini, max_depth=7, random_state=2, total=   0.0s\n",
      "[CV] criterion=gini, max_depth=7, random_state=2 .....................\n",
      "[CV] ...... criterion=gini, max_depth=7, random_state=2, total=   0.0s\n",
      "[CV] criterion=gini, max_depth=7, random_state=2 .....................\n",
      "[CV] ...... criterion=gini, max_depth=7, random_state=2, total=   0.0s\n",
      "[CV] criterion=gini, max_depth=7, random_state=2 .....................\n",
      "[CV] ...... criterion=gini, max_depth=7, random_state=2, total=   0.0s\n",
      "[CV] criterion=gini, max_depth=7, random_state=2 .....................\n",
      "[CV] ...... criterion=gini, max_depth=7, random_state=2, total=   0.0s\n",
      "[CV] criterion=gini, max_depth=8, random_state=0 .....................\n",
      "[CV] ...... criterion=gini, max_depth=8, random_state=0, total=   0.0s\n",
      "[CV] criterion=gini, max_depth=8, random_state=0 .....................\n",
      "[CV] ...... criterion=gini, max_depth=8, random_state=0, total=   0.0s\n",
      "[CV] criterion=gini, max_depth=8, random_state=0 .....................\n",
      "[CV] ...... criterion=gini, max_depth=8, random_state=0, total=   0.0s\n",
      "[CV] criterion=gini, max_depth=8, random_state=0 .....................\n",
      "[CV] ...... criterion=gini, max_depth=8, random_state=0, total=   0.0s\n",
      "[CV] criterion=gini, max_depth=8, random_state=0 .....................\n",
      "[CV] ...... criterion=gini, max_depth=8, random_state=0, total=   0.0s\n",
      "[CV] criterion=gini, max_depth=8, random_state=1 .....................\n",
      "[CV] ...... criterion=gini, max_depth=8, random_state=1, total=   0.0s\n",
      "[CV] criterion=gini, max_depth=8, random_state=1 .....................\n",
      "[CV] ...... criterion=gini, max_depth=8, random_state=1, total=   0.0s\n",
      "[CV] criterion=gini, max_depth=8, random_state=1 .....................\n",
      "[CV] ...... criterion=gini, max_depth=8, random_state=1, total=   0.0s\n",
      "[CV] criterion=gini, max_depth=8, random_state=1 .....................\n",
      "[CV] ...... criterion=gini, max_depth=8, random_state=1, total=   0.0s\n",
      "[CV] criterion=gini, max_depth=8, random_state=1 .....................\n",
      "[CV] ...... criterion=gini, max_depth=8, random_state=1, total=   0.0s\n",
      "[CV] criterion=gini, max_depth=8, random_state=2 .....................\n",
      "[CV] ...... criterion=gini, max_depth=8, random_state=2, total=   0.0s\n",
      "[CV] criterion=gini, max_depth=8, random_state=2 .....................\n",
      "[CV] ...... criterion=gini, max_depth=8, random_state=2, total=   0.0s\n",
      "[CV] criterion=gini, max_depth=8, random_state=2 .....................\n",
      "[CV] ...... criterion=gini, max_depth=8, random_state=2, total=   0.0s\n",
      "[CV] criterion=gini, max_depth=8, random_state=2 .....................\n",
      "[CV] ...... criterion=gini, max_depth=8, random_state=2, total=   0.0s\n",
      "[CV] criterion=gini, max_depth=8, random_state=2 .....................\n",
      "[CV] ...... criterion=gini, max_depth=8, random_state=2, total=   0.0s\n",
      "[CV] criterion=gini, max_depth=9, random_state=0 .....................\n",
      "[CV] ...... criterion=gini, max_depth=9, random_state=0, total=   0.0s\n",
      "[CV] criterion=gini, max_depth=9, random_state=0 .....................\n",
      "[CV] ...... criterion=gini, max_depth=9, random_state=0, total=   0.0s\n",
      "[CV] criterion=gini, max_depth=9, random_state=0 .....................\n",
      "[CV] ...... criterion=gini, max_depth=9, random_state=0, total=   0.0s\n",
      "[CV] criterion=gini, max_depth=9, random_state=0 .....................\n",
      "[CV] ...... criterion=gini, max_depth=9, random_state=0, total=   0.0s\n",
      "[CV] criterion=gini, max_depth=9, random_state=0 .....................\n",
      "[CV] ...... criterion=gini, max_depth=9, random_state=0, total=   0.0s\n",
      "[CV] criterion=gini, max_depth=9, random_state=1 .....................\n",
      "[CV] ...... criterion=gini, max_depth=9, random_state=1, total=   0.0s\n",
      "[CV] criterion=gini, max_depth=9, random_state=1 .....................\n",
      "[CV] ...... criterion=gini, max_depth=9, random_state=1, total=   0.0s\n",
      "[CV] criterion=gini, max_depth=9, random_state=1 .....................\n",
      "[CV] ...... criterion=gini, max_depth=9, random_state=1, total=   0.0s\n",
      "[CV] criterion=gini, max_depth=9, random_state=1 .....................\n",
      "[CV] ...... criterion=gini, max_depth=9, random_state=1, total=   0.0s\n",
      "[CV] criterion=gini, max_depth=9, random_state=1 .....................\n",
      "[CV] ...... criterion=gini, max_depth=9, random_state=1, total=   0.0s\n",
      "[CV] criterion=gini, max_depth=9, random_state=2 .....................\n",
      "[CV] ...... criterion=gini, max_depth=9, random_state=2, total=   0.0s\n",
      "[CV] criterion=gini, max_depth=9, random_state=2 .....................\n",
      "[CV] ...... criterion=gini, max_depth=9, random_state=2, total=   0.0s\n",
      "[CV] criterion=gini, max_depth=9, random_state=2 .....................\n",
      "[CV] ...... criterion=gini, max_depth=9, random_state=2, total=   0.0s\n",
      "[CV] criterion=gini, max_depth=9, random_state=2 .....................\n",
      "[CV] ...... criterion=gini, max_depth=9, random_state=2, total=   0.0s\n",
      "[CV] criterion=gini, max_depth=9, random_state=2 .....................\n",
      "[CV] ...... criterion=gini, max_depth=9, random_state=2, total=   0.0s\n",
      "[CV] criterion=gini, max_depth=10, random_state=0 ....................\n",
      "[CV] ..... criterion=gini, max_depth=10, random_state=0, total=   0.0s\n",
      "[CV] criterion=gini, max_depth=10, random_state=0 ....................\n",
      "[CV] ..... criterion=gini, max_depth=10, random_state=0, total=   0.0s\n",
      "[CV] criterion=gini, max_depth=10, random_state=0 ....................\n",
      "[CV] ..... criterion=gini, max_depth=10, random_state=0, total=   0.0s\n",
      "[CV] criterion=gini, max_depth=10, random_state=0 ....................\n",
      "[CV] ..... criterion=gini, max_depth=10, random_state=0, total=   0.0s\n",
      "[CV] criterion=gini, max_depth=10, random_state=0 ....................\n",
      "[CV] ..... criterion=gini, max_depth=10, random_state=0, total=   0.0s\n",
      "[CV] criterion=gini, max_depth=10, random_state=1 ....................\n",
      "[CV] ..... criterion=gini, max_depth=10, random_state=1, total=   0.0s\n",
      "[CV] criterion=gini, max_depth=10, random_state=1 ....................\n",
      "[CV] ..... criterion=gini, max_depth=10, random_state=1, total=   0.0s\n",
      "[CV] criterion=gini, max_depth=10, random_state=1 ....................\n",
      "[CV] ..... criterion=gini, max_depth=10, random_state=1, total=   0.0s\n",
      "[CV] criterion=gini, max_depth=10, random_state=1 ....................\n",
      "[CV] ..... criterion=gini, max_depth=10, random_state=1, total=   0.0s\n",
      "[CV] criterion=gini, max_depth=10, random_state=1 ....................\n",
      "[CV] ..... criterion=gini, max_depth=10, random_state=1, total=   0.0s\n",
      "[CV] criterion=gini, max_depth=10, random_state=2 ....................\n",
      "[CV] ..... criterion=gini, max_depth=10, random_state=2, total=   0.0s\n",
      "[CV] criterion=gini, max_depth=10, random_state=2 ....................\n",
      "[CV] ..... criterion=gini, max_depth=10, random_state=2, total=   0.0s\n",
      "[CV] criterion=gini, max_depth=10, random_state=2 ....................\n",
      "[CV] ..... criterion=gini, max_depth=10, random_state=2, total=   0.0s\n",
      "[CV] criterion=gini, max_depth=10, random_state=2 ....................\n",
      "[CV] ..... criterion=gini, max_depth=10, random_state=2, total=   0.0s\n",
      "[CV] criterion=gini, max_depth=10, random_state=2 ....................\n",
      "[CV] ..... criterion=gini, max_depth=10, random_state=2, total=   0.0s\n",
      "[CV] criterion=entropy, max_depth=1, random_state=0 ..................\n",
      "[CV] ... criterion=entropy, max_depth=1, random_state=0, total=   0.0s\n",
      "[CV] criterion=entropy, max_depth=1, random_state=0 ..................\n",
      "[CV] ... criterion=entropy, max_depth=1, random_state=0, total=   0.0s\n",
      "[CV] criterion=entropy, max_depth=1, random_state=0 ..................\n",
      "[CV] ... criterion=entropy, max_depth=1, random_state=0, total=   0.0s\n",
      "[CV] criterion=entropy, max_depth=1, random_state=0 ..................\n",
      "[CV] ... criterion=entropy, max_depth=1, random_state=0, total=   0.0s\n",
      "[CV] criterion=entropy, max_depth=1, random_state=0 ..................\n",
      "[CV] ... criterion=entropy, max_depth=1, random_state=0, total=   0.0s\n",
      "[CV] criterion=entropy, max_depth=1, random_state=1 ..................\n",
      "[CV] ... criterion=entropy, max_depth=1, random_state=1, total=   0.0s\n",
      "[CV] criterion=entropy, max_depth=1, random_state=1 ..................\n",
      "[CV] ... criterion=entropy, max_depth=1, random_state=1, total=   0.0s\n",
      "[CV] criterion=entropy, max_depth=1, random_state=1 ..................\n",
      "[CV] ... criterion=entropy, max_depth=1, random_state=1, total=   0.0s\n",
      "[CV] criterion=entropy, max_depth=1, random_state=1 ..................\n",
      "[CV] ... criterion=entropy, max_depth=1, random_state=1, total=   0.0s\n",
      "[CV] criterion=entropy, max_depth=1, random_state=1 ..................\n",
      "[CV] ... criterion=entropy, max_depth=1, random_state=1, total=   0.0s\n",
      "[CV] criterion=entropy, max_depth=1, random_state=2 ..................\n",
      "[CV] ... criterion=entropy, max_depth=1, random_state=2, total=   0.0s\n",
      "[CV] criterion=entropy, max_depth=1, random_state=2 ..................\n",
      "[CV] ... criterion=entropy, max_depth=1, random_state=2, total=   0.0s\n",
      "[CV] criterion=entropy, max_depth=1, random_state=2 ..................\n",
      "[CV] ... criterion=entropy, max_depth=1, random_state=2, total=   0.0s\n",
      "[CV] criterion=entropy, max_depth=1, random_state=2 ..................\n",
      "[CV] ... criterion=entropy, max_depth=1, random_state=2, total=   0.0s\n",
      "[CV] criterion=entropy, max_depth=1, random_state=2 ..................\n",
      "[CV] ... criterion=entropy, max_depth=1, random_state=2, total=   0.0s\n",
      "[CV] criterion=entropy, max_depth=2, random_state=0 ..................\n",
      "[CV] ... criterion=entropy, max_depth=2, random_state=0, total=   0.0s\n",
      "[CV] criterion=entropy, max_depth=2, random_state=0 ..................\n",
      "[CV] ... criterion=entropy, max_depth=2, random_state=0, total=   0.0s\n",
      "[CV] criterion=entropy, max_depth=2, random_state=0 ..................\n",
      "[CV] ... criterion=entropy, max_depth=2, random_state=0, total=   0.0s\n",
      "[CV] criterion=entropy, max_depth=2, random_state=0 ..................\n",
      "[CV] ... criterion=entropy, max_depth=2, random_state=0, total=   0.0s\n",
      "[CV] criterion=entropy, max_depth=2, random_state=0 ..................\n",
      "[CV] ... criterion=entropy, max_depth=2, random_state=0, total=   0.0s\n",
      "[CV] criterion=entropy, max_depth=2, random_state=1 ..................\n",
      "[CV] ... criterion=entropy, max_depth=2, random_state=1, total=   0.0s\n",
      "[CV] criterion=entropy, max_depth=2, random_state=1 ..................\n",
      "[CV] ... criterion=entropy, max_depth=2, random_state=1, total=   0.0s\n",
      "[CV] criterion=entropy, max_depth=2, random_state=1 ..................\n",
      "[CV] ... criterion=entropy, max_depth=2, random_state=1, total=   0.0s\n",
      "[CV] criterion=entropy, max_depth=2, random_state=1 ..................\n",
      "[CV] ... criterion=entropy, max_depth=2, random_state=1, total=   0.0s\n",
      "[CV] criterion=entropy, max_depth=2, random_state=1 ..................\n",
      "[CV] ... criterion=entropy, max_depth=2, random_state=1, total=   0.0s\n",
      "[CV] criterion=entropy, max_depth=2, random_state=2 ..................\n",
      "[CV] ... criterion=entropy, max_depth=2, random_state=2, total=   0.0s\n",
      "[CV] criterion=entropy, max_depth=2, random_state=2 ..................\n",
      "[CV] ... criterion=entropy, max_depth=2, random_state=2, total=   0.0s\n",
      "[CV] criterion=entropy, max_depth=2, random_state=2 ..................\n",
      "[CV] ... criterion=entropy, max_depth=2, random_state=2, total=   0.0s\n",
      "[CV] criterion=entropy, max_depth=2, random_state=2 ..................\n",
      "[CV] ... criterion=entropy, max_depth=2, random_state=2, total=   0.0s\n",
      "[CV] criterion=entropy, max_depth=2, random_state=2 ..................\n",
      "[CV] ... criterion=entropy, max_depth=2, random_state=2, total=   0.0s\n",
      "[CV] criterion=entropy, max_depth=3, random_state=0 ..................\n",
      "[CV] ... criterion=entropy, max_depth=3, random_state=0, total=   0.0s\n",
      "[CV] criterion=entropy, max_depth=3, random_state=0 ..................\n",
      "[CV] ... criterion=entropy, max_depth=3, random_state=0, total=   0.0s\n",
      "[CV] criterion=entropy, max_depth=3, random_state=0 ..................\n",
      "[CV] ... criterion=entropy, max_depth=3, random_state=0, total=   0.0s\n",
      "[CV] criterion=entropy, max_depth=3, random_state=0 ..................\n",
      "[CV] ... criterion=entropy, max_depth=3, random_state=0, total=   0.0s\n",
      "[CV] criterion=entropy, max_depth=3, random_state=0 ..................\n",
      "[CV] ... criterion=entropy, max_depth=3, random_state=0, total=   0.0s\n",
      "[CV] criterion=entropy, max_depth=3, random_state=1 ..................\n",
      "[CV] ... criterion=entropy, max_depth=3, random_state=1, total=   0.0s\n",
      "[CV] criterion=entropy, max_depth=3, random_state=1 ..................\n",
      "[CV] ... criterion=entropy, max_depth=3, random_state=1, total=   0.0s\n",
      "[CV] criterion=entropy, max_depth=3, random_state=1 ..................\n",
      "[CV] ... criterion=entropy, max_depth=3, random_state=1, total=   0.0s\n",
      "[CV] criterion=entropy, max_depth=3, random_state=1 ..................\n",
      "[CV] ... criterion=entropy, max_depth=3, random_state=1, total=   0.0s\n",
      "[CV] criterion=entropy, max_depth=3, random_state=1 ..................\n",
      "[CV] ... criterion=entropy, max_depth=3, random_state=1, total=   0.0s\n",
      "[CV] criterion=entropy, max_depth=3, random_state=2 ..................\n",
      "[CV] ... criterion=entropy, max_depth=3, random_state=2, total=   0.0s\n",
      "[CV] criterion=entropy, max_depth=3, random_state=2 ..................\n",
      "[CV] ... criterion=entropy, max_depth=3, random_state=2, total=   0.0s\n",
      "[CV] criterion=entropy, max_depth=3, random_state=2 ..................\n",
      "[CV] ... criterion=entropy, max_depth=3, random_state=2, total=   0.0s\n",
      "[CV] criterion=entropy, max_depth=3, random_state=2 ..................\n",
      "[CV] ... criterion=entropy, max_depth=3, random_state=2, total=   0.0s\n",
      "[CV] criterion=entropy, max_depth=3, random_state=2 ..................\n",
      "[CV] ... criterion=entropy, max_depth=3, random_state=2, total=   0.0s\n",
      "[CV] criterion=entropy, max_depth=4, random_state=0 ..................\n",
      "[CV] ... criterion=entropy, max_depth=4, random_state=0, total=   0.0s\n",
      "[CV] criterion=entropy, max_depth=4, random_state=0 ..................\n",
      "[CV] ... criterion=entropy, max_depth=4, random_state=0, total=   0.0s\n",
      "[CV] criterion=entropy, max_depth=4, random_state=0 ..................\n",
      "[CV] ... criterion=entropy, max_depth=4, random_state=0, total=   0.0s\n",
      "[CV] criterion=entropy, max_depth=4, random_state=0 ..................\n",
      "[CV] ... criterion=entropy, max_depth=4, random_state=0, total=   0.0s\n",
      "[CV] criterion=entropy, max_depth=4, random_state=0 ..................\n",
      "[CV] ... criterion=entropy, max_depth=4, random_state=0, total=   0.0s\n",
      "[CV] criterion=entropy, max_depth=4, random_state=1 ..................\n",
      "[CV] ... criterion=entropy, max_depth=4, random_state=1, total=   0.0s\n",
      "[CV] criterion=entropy, max_depth=4, random_state=1 ..................\n",
      "[CV] ... criterion=entropy, max_depth=4, random_state=1, total=   0.0s\n",
      "[CV] criterion=entropy, max_depth=4, random_state=1 ..................\n",
      "[CV] ... criterion=entropy, max_depth=4, random_state=1, total=   0.0s\n",
      "[CV] criterion=entropy, max_depth=4, random_state=1 ..................\n",
      "[CV] ... criterion=entropy, max_depth=4, random_state=1, total=   0.0s\n",
      "[CV] criterion=entropy, max_depth=4, random_state=1 ..................\n",
      "[CV] ... criterion=entropy, max_depth=4, random_state=1, total=   0.0s\n",
      "[CV] criterion=entropy, max_depth=4, random_state=2 ..................\n",
      "[CV] ... criterion=entropy, max_depth=4, random_state=2, total=   0.0s\n",
      "[CV] criterion=entropy, max_depth=4, random_state=2 ..................\n",
      "[CV] ... criterion=entropy, max_depth=4, random_state=2, total=   0.0s\n",
      "[CV] criterion=entropy, max_depth=4, random_state=2 ..................\n",
      "[CV] ... criterion=entropy, max_depth=4, random_state=2, total=   0.0s\n",
      "[CV] criterion=entropy, max_depth=4, random_state=2 ..................\n",
      "[CV] ... criterion=entropy, max_depth=4, random_state=2, total=   0.0s\n",
      "[CV] criterion=entropy, max_depth=4, random_state=2 ..................\n",
      "[CV] ... criterion=entropy, max_depth=4, random_state=2, total=   0.0s\n",
      "[CV] criterion=entropy, max_depth=5, random_state=0 ..................\n",
      "[CV] ... criterion=entropy, max_depth=5, random_state=0, total=   0.0s\n",
      "[CV] criterion=entropy, max_depth=5, random_state=0 ..................\n",
      "[CV] ... criterion=entropy, max_depth=5, random_state=0, total=   0.0s\n",
      "[CV] criterion=entropy, max_depth=5, random_state=0 ..................\n",
      "[CV] ... criterion=entropy, max_depth=5, random_state=0, total=   0.0s\n",
      "[CV] criterion=entropy, max_depth=5, random_state=0 ..................\n",
      "[CV] ... criterion=entropy, max_depth=5, random_state=0, total=   0.0s\n",
      "[CV] criterion=entropy, max_depth=5, random_state=0 ..................\n",
      "[CV] ... criterion=entropy, max_depth=5, random_state=0, total=   0.0s\n",
      "[CV] criterion=entropy, max_depth=5, random_state=1 ..................\n",
      "[CV] ... criterion=entropy, max_depth=5, random_state=1, total=   0.0s\n",
      "[CV] criterion=entropy, max_depth=5, random_state=1 ..................\n",
      "[CV] ... criterion=entropy, max_depth=5, random_state=1, total=   0.0s\n",
      "[CV] criterion=entropy, max_depth=5, random_state=1 ..................\n",
      "[CV] ... criterion=entropy, max_depth=5, random_state=1, total=   0.0s\n",
      "[CV] criterion=entropy, max_depth=5, random_state=1 ..................\n",
      "[CV] ... criterion=entropy, max_depth=5, random_state=1, total=   0.0s\n",
      "[CV] criterion=entropy, max_depth=5, random_state=1 ..................\n",
      "[CV] ... criterion=entropy, max_depth=5, random_state=1, total=   0.0s\n",
      "[CV] criterion=entropy, max_depth=5, random_state=2 ..................\n",
      "[CV] ... criterion=entropy, max_depth=5, random_state=2, total=   0.0s\n",
      "[CV] criterion=entropy, max_depth=5, random_state=2 ..................\n",
      "[CV] ... criterion=entropy, max_depth=5, random_state=2, total=   0.0s\n",
      "[CV] criterion=entropy, max_depth=5, random_state=2 ..................\n",
      "[CV] ... criterion=entropy, max_depth=5, random_state=2, total=   0.0s\n",
      "[CV] criterion=entropy, max_depth=5, random_state=2 ..................\n",
      "[CV] ... criterion=entropy, max_depth=5, random_state=2, total=   0.0s\n",
      "[CV] criterion=entropy, max_depth=5, random_state=2 ..................\n",
      "[CV] ... criterion=entropy, max_depth=5, random_state=2, total=   0.0s\n",
      "[CV] criterion=entropy, max_depth=6, random_state=0 ..................\n",
      "[CV] ... criterion=entropy, max_depth=6, random_state=0, total=   0.0s\n",
      "[CV] criterion=entropy, max_depth=6, random_state=0 ..................\n",
      "[CV] ... criterion=entropy, max_depth=6, random_state=0, total=   0.0s\n",
      "[CV] criterion=entropy, max_depth=6, random_state=0 ..................\n",
      "[CV] ... criterion=entropy, max_depth=6, random_state=0, total=   0.0s\n",
      "[CV] criterion=entropy, max_depth=6, random_state=0 ..................\n",
      "[CV] ... criterion=entropy, max_depth=6, random_state=0, total=   0.0s\n",
      "[CV] criterion=entropy, max_depth=6, random_state=0 ..................\n",
      "[CV] ... criterion=entropy, max_depth=6, random_state=0, total=   0.0s\n",
      "[CV] criterion=entropy, max_depth=6, random_state=1 ..................\n",
      "[CV] ... criterion=entropy, max_depth=6, random_state=1, total=   0.0s\n",
      "[CV] criterion=entropy, max_depth=6, random_state=1 ..................\n",
      "[CV] ... criterion=entropy, max_depth=6, random_state=1, total=   0.0s\n",
      "[CV] criterion=entropy, max_depth=6, random_state=1 ..................\n",
      "[CV] ... criterion=entropy, max_depth=6, random_state=1, total=   0.0s\n",
      "[CV] criterion=entropy, max_depth=6, random_state=1 ..................\n",
      "[CV] ... criterion=entropy, max_depth=6, random_state=1, total=   0.0s\n",
      "[CV] criterion=entropy, max_depth=6, random_state=1 ..................\n",
      "[CV] ... criterion=entropy, max_depth=6, random_state=1, total=   0.0s\n",
      "[CV] criterion=entropy, max_depth=6, random_state=2 ..................\n",
      "[CV] ... criterion=entropy, max_depth=6, random_state=2, total=   0.0s\n",
      "[CV] criterion=entropy, max_depth=6, random_state=2 ..................\n",
      "[CV] ... criterion=entropy, max_depth=6, random_state=2, total=   0.0s\n",
      "[CV] criterion=entropy, max_depth=6, random_state=2 ..................\n",
      "[CV] ... criterion=entropy, max_depth=6, random_state=2, total=   0.0s\n",
      "[CV] criterion=entropy, max_depth=6, random_state=2 ..................\n",
      "[CV] ... criterion=entropy, max_depth=6, random_state=2, total=   0.0s\n",
      "[CV] criterion=entropy, max_depth=6, random_state=2 ..................\n",
      "[CV] ... criterion=entropy, max_depth=6, random_state=2, total=   0.0s\n",
      "[CV] criterion=entropy, max_depth=7, random_state=0 ..................\n",
      "[CV] ... criterion=entropy, max_depth=7, random_state=0, total=   0.0s\n",
      "[CV] criterion=entropy, max_depth=7, random_state=0 ..................\n",
      "[CV] ... criterion=entropy, max_depth=7, random_state=0, total=   0.0s\n",
      "[CV] criterion=entropy, max_depth=7, random_state=0 ..................\n",
      "[CV] ... criterion=entropy, max_depth=7, random_state=0, total=   0.0s\n",
      "[CV] criterion=entropy, max_depth=7, random_state=0 ..................\n",
      "[CV] ... criterion=entropy, max_depth=7, random_state=0, total=   0.0s\n",
      "[CV] criterion=entropy, max_depth=7, random_state=0 ..................\n",
      "[CV] ... criterion=entropy, max_depth=7, random_state=0, total=   0.0s\n",
      "[CV] criterion=entropy, max_depth=7, random_state=1 ..................\n",
      "[CV] ... criterion=entropy, max_depth=7, random_state=1, total=   0.0s\n",
      "[CV] criterion=entropy, max_depth=7, random_state=1 ..................\n",
      "[CV] ... criterion=entropy, max_depth=7, random_state=1, total=   0.0s\n",
      "[CV] criterion=entropy, max_depth=7, random_state=1 ..................\n",
      "[CV] ... criterion=entropy, max_depth=7, random_state=1, total=   0.0s\n",
      "[CV] criterion=entropy, max_depth=7, random_state=1 ..................\n",
      "[CV] ... criterion=entropy, max_depth=7, random_state=1, total=   0.0s\n",
      "[CV] criterion=entropy, max_depth=7, random_state=1 ..................\n",
      "[CV] ... criterion=entropy, max_depth=7, random_state=1, total=   0.0s\n",
      "[CV] criterion=entropy, max_depth=7, random_state=2 ..................\n",
      "[CV] ... criterion=entropy, max_depth=7, random_state=2, total=   0.0s\n",
      "[CV] criterion=entropy, max_depth=7, random_state=2 ..................\n",
      "[CV] ... criterion=entropy, max_depth=7, random_state=2, total=   0.0s\n",
      "[CV] criterion=entropy, max_depth=7, random_state=2 ..................\n",
      "[CV] ... criterion=entropy, max_depth=7, random_state=2, total=   0.0s\n",
      "[CV] criterion=entropy, max_depth=7, random_state=2 ..................\n",
      "[CV] ... criterion=entropy, max_depth=7, random_state=2, total=   0.0s\n",
      "[CV] criterion=entropy, max_depth=7, random_state=2 ..................\n",
      "[CV] ... criterion=entropy, max_depth=7, random_state=2, total=   0.0s\n",
      "[CV] criterion=entropy, max_depth=8, random_state=0 ..................\n",
      "[CV] ... criterion=entropy, max_depth=8, random_state=0, total=   0.0s\n",
      "[CV] criterion=entropy, max_depth=8, random_state=0 ..................\n",
      "[CV] ... criterion=entropy, max_depth=8, random_state=0, total=   0.0s\n",
      "[CV] criterion=entropy, max_depth=8, random_state=0 ..................\n",
      "[CV] ... criterion=entropy, max_depth=8, random_state=0, total=   0.0s\n",
      "[CV] criterion=entropy, max_depth=8, random_state=0 ..................\n",
      "[CV] ... criterion=entropy, max_depth=8, random_state=0, total=   0.0s\n",
      "[CV] criterion=entropy, max_depth=8, random_state=0 ..................\n",
      "[CV] ... criterion=entropy, max_depth=8, random_state=0, total=   0.0s\n",
      "[CV] criterion=entropy, max_depth=8, random_state=1 ..................\n",
      "[CV] ... criterion=entropy, max_depth=8, random_state=1, total=   0.0s\n",
      "[CV] criterion=entropy, max_depth=8, random_state=1 ..................\n",
      "[CV] ... criterion=entropy, max_depth=8, random_state=1, total=   0.0s\n",
      "[CV] criterion=entropy, max_depth=8, random_state=1 ..................\n",
      "[CV] ... criterion=entropy, max_depth=8, random_state=1, total=   0.0s\n",
      "[CV] criterion=entropy, max_depth=8, random_state=1 ..................\n",
      "[CV] ... criterion=entropy, max_depth=8, random_state=1, total=   0.0s\n",
      "[CV] criterion=entropy, max_depth=8, random_state=1 ..................\n",
      "[CV] ... criterion=entropy, max_depth=8, random_state=1, total=   0.0s\n",
      "[CV] criterion=entropy, max_depth=8, random_state=2 ..................\n",
      "[CV] ... criterion=entropy, max_depth=8, random_state=2, total=   0.0s\n",
      "[CV] criterion=entropy, max_depth=8, random_state=2 ..................\n",
      "[CV] ... criterion=entropy, max_depth=8, random_state=2, total=   0.0s\n",
      "[CV] criterion=entropy, max_depth=8, random_state=2 ..................\n",
      "[CV] ... criterion=entropy, max_depth=8, random_state=2, total=   0.0s\n",
      "[CV] criterion=entropy, max_depth=8, random_state=2 ..................\n",
      "[CV] ... criterion=entropy, max_depth=8, random_state=2, total=   0.0s\n",
      "[CV] criterion=entropy, max_depth=8, random_state=2 ..................\n",
      "[CV] ... criterion=entropy, max_depth=8, random_state=2, total=   0.0s\n",
      "[CV] criterion=entropy, max_depth=9, random_state=0 ..................\n",
      "[CV] ... criterion=entropy, max_depth=9, random_state=0, total=   0.0s\n",
      "[CV] criterion=entropy, max_depth=9, random_state=0 ..................\n",
      "[CV] ... criterion=entropy, max_depth=9, random_state=0, total=   0.0s\n",
      "[CV] criterion=entropy, max_depth=9, random_state=0 ..................\n",
      "[CV] ... criterion=entropy, max_depth=9, random_state=0, total=   0.0s\n",
      "[CV] criterion=entropy, max_depth=9, random_state=0 ..................\n",
      "[CV] ... criterion=entropy, max_depth=9, random_state=0, total=   0.0s\n",
      "[CV] criterion=entropy, max_depth=9, random_state=0 ..................\n",
      "[CV] ... criterion=entropy, max_depth=9, random_state=0, total=   0.0s\n",
      "[CV] criterion=entropy, max_depth=9, random_state=1 ..................\n",
      "[CV] ... criterion=entropy, max_depth=9, random_state=1, total=   0.0s\n",
      "[CV] criterion=entropy, max_depth=9, random_state=1 ..................\n",
      "[CV] ... criterion=entropy, max_depth=9, random_state=1, total=   0.0s\n",
      "[CV] criterion=entropy, max_depth=9, random_state=1 ..................\n",
      "[CV] ... criterion=entropy, max_depth=9, random_state=1, total=   0.0s\n",
      "[CV] criterion=entropy, max_depth=9, random_state=1 ..................\n",
      "[CV] ... criterion=entropy, max_depth=9, random_state=1, total=   0.0s\n",
      "[CV] criterion=entropy, max_depth=9, random_state=1 ..................\n",
      "[CV] ... criterion=entropy, max_depth=9, random_state=1, total=   0.0s\n",
      "[CV] criterion=entropy, max_depth=9, random_state=2 ..................\n",
      "[CV] ... criterion=entropy, max_depth=9, random_state=2, total=   0.0s\n",
      "[CV] criterion=entropy, max_depth=9, random_state=2 ..................\n",
      "[CV] ... criterion=entropy, max_depth=9, random_state=2, total=   0.0s\n",
      "[CV] criterion=entropy, max_depth=9, random_state=2 ..................\n",
      "[CV] ... criterion=entropy, max_depth=9, random_state=2, total=   0.0s\n",
      "[CV] criterion=entropy, max_depth=9, random_state=2 ..................\n",
      "[CV] ... criterion=entropy, max_depth=9, random_state=2, total=   0.0s\n",
      "[CV] criterion=entropy, max_depth=9, random_state=2 ..................\n",
      "[CV] ... criterion=entropy, max_depth=9, random_state=2, total=   0.0s\n",
      "[CV] criterion=entropy, max_depth=10, random_state=0 .................\n",
      "[CV] .. criterion=entropy, max_depth=10, random_state=0, total=   0.0s\n",
      "[CV] criterion=entropy, max_depth=10, random_state=0 .................\n",
      "[CV] .. criterion=entropy, max_depth=10, random_state=0, total=   0.0s\n",
      "[CV] criterion=entropy, max_depth=10, random_state=0 .................\n",
      "[CV] .. criterion=entropy, max_depth=10, random_state=0, total=   0.0s\n",
      "[CV] criterion=entropy, max_depth=10, random_state=0 .................\n",
      "[CV] .. criterion=entropy, max_depth=10, random_state=0, total=   0.0s\n",
      "[CV] criterion=entropy, max_depth=10, random_state=0 .................\n",
      "[CV] .. criterion=entropy, max_depth=10, random_state=0, total=   0.0s\n",
      "[CV] criterion=entropy, max_depth=10, random_state=1 .................\n",
      "[CV] .. criterion=entropy, max_depth=10, random_state=1, total=   0.0s\n",
      "[CV] criterion=entropy, max_depth=10, random_state=1 .................\n",
      "[CV] .. criterion=entropy, max_depth=10, random_state=1, total=   0.0s\n",
      "[CV] criterion=entropy, max_depth=10, random_state=1 .................\n",
      "[CV] .. criterion=entropy, max_depth=10, random_state=1, total=   0.0s\n",
      "[CV] criterion=entropy, max_depth=10, random_state=1 .................\n",
      "[CV] .. criterion=entropy, max_depth=10, random_state=1, total=   0.0s\n",
      "[CV] criterion=entropy, max_depth=10, random_state=1 .................\n",
      "[CV] .. criterion=entropy, max_depth=10, random_state=1, total=   0.0s\n",
      "[CV] criterion=entropy, max_depth=10, random_state=2 .................\n",
      "[CV] .. criterion=entropy, max_depth=10, random_state=2, total=   0.0s\n",
      "[CV] criterion=entropy, max_depth=10, random_state=2 .................\n",
      "[CV] .. criterion=entropy, max_depth=10, random_state=2, total=   0.0s\n",
      "[CV] criterion=entropy, max_depth=10, random_state=2 .................\n",
      "[CV] .. criterion=entropy, max_depth=10, random_state=2, total=   0.0s\n",
      "[CV] criterion=entropy, max_depth=10, random_state=2 .................\n",
      "[CV] .. criterion=entropy, max_depth=10, random_state=2, total=   0.0s\n",
      "[CV] criterion=entropy, max_depth=10, random_state=2 .................\n",
      "[CV] .. criterion=entropy, max_depth=10, random_state=2, total=   0.0s\n"
     ]
    },
    {
     "name": "stderr",
     "output_type": "stream",
     "text": [
      "[Parallel(n_jobs=1)]: Done 300 out of 300 | elapsed:    5.3s finished\n"
     ]
    }
   ],
   "source": [
    "X = df[['credit_score', 'age', 'tenure', 'balance',\n",
    "       'num_products', 'active_member', 'estimated_salary']]\n",
    "y = df['exited']\n",
    "\n",
    "X_train, X_test, y_train, y_test = train_test_split(X, y, test_size=0.30)\n",
    "## Gridsearch for automatic parameter tuning\n",
    "tree_param = {'random_state':[0,1,2],\n",
    "              'criterion':['gini','entropy'],\n",
    "              'max_depth':[1,2,3,4,5,6,7,8,9,10]}\n",
    "\n",
    "grid = GridSearchCV(DecisionTreeClassifier(),tree_param,refit=True,verbose=2)\n",
    "grid.fit(X_train,y_train)\n",
    "\n",
    "grid_predictions = grid.predict(X_test)\n"
   ]
  },
  {
   "cell_type": "code",
   "execution_count": 40,
   "metadata": {},
   "outputs": [
    {
     "name": "stdout",
     "output_type": "stream",
     "text": [
      "              precision    recall  f1-score   support\n",
      "\n",
      "           0       0.85      0.98      0.91      2383\n",
      "           1       0.82      0.33      0.47       617\n",
      "\n",
      "    accuracy                           0.85      3000\n",
      "   macro avg       0.83      0.65      0.69      3000\n",
      "weighted avg       0.84      0.85      0.82      3000\n",
      "\n",
      "[[2338   45]\n",
      " [ 415  202]]\n"
     ]
    }
   ],
   "source": [
    "print(classification_report(y_test,grid_predictions))\n",
    "print(confusion_matrix(y_test,grid_predictions))"
   ]
  },
  {
   "cell_type": "code",
   "execution_count": 41,
   "metadata": {},
   "outputs": [
    {
     "data": {
      "text/plain": [
       "<matplotlib.axes._subplots.AxesSubplot at 0x7fd804583210>"
      ]
     },
     "execution_count": 41,
     "metadata": {},
     "output_type": "execute_result"
    },
    {
     "data": {
      "image/png": "[encoded data removed]",
      "text/plain": [
       "<Figure size 1440x432 with 1 Axes>"
      ]
     },
     "metadata": {
      "needs_background": "light"
     },
     "output_type": "display_data"
    }
   ],
   "source": [
    "d = {'feature': X.columns, 'importance': dtree.feature_importances_}\n",
    "feat_imp = pd.DataFrame(data=d)\n",
    "\n",
    "feat_imp['importance'] = feat_imp['importance'].abs()\n",
    "feat_imp = feat_imp.sort_values(by=['importance'])\n",
    "\n",
    "plt.figure(figsize=(20,6))\n",
    "sns.barplot(x=\"feature\", y=\"importance\", data=feat_imp)"
   ]
  },
  {
   "cell_type": "code",
   "execution_count": null,
   "metadata": {},
   "outputs": [],
   "source": []
  }
 ],
 "metadata": {
  "kernelspec": {
   "display_name": "Python 3 (Data Science)",
   "language": "python",
   "name": "python3__SAGEMAKER_INTERNAL__arn:aws:sagemaker:eu-west-1:470317259841:image/datascience-1.0"
  },
  "language_info": {
   "codemirror_mode": {
    "name": "ipython",
    "version": 3
   },
   "file_extension": ".py",
   "mimetype": "text/x-python",
   "name": "python",
   "nbconvert_exporter": "python",
   "pygments_lexer": "ipython3",
   "version": "3.7.10"
  }
 },
 "nbformat": 4,
 "nbformat_minor": 4
}
